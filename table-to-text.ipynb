{
 "cells": [
  {
   "cell_type": "markdown",
   "id": "19b01251-7ad5-4fb9-ad00-efeb5cff074d",
   "metadata": {},
   "source": [
    "# Table-to-text Natural Language Generation Model"
   ]
  },
  {
   "cell_type": "markdown",
   "id": "b5bfb1ca-310f-42fa-b056-8b6458ba3e38",
   "metadata": {},
   "source": [
    "This notebook was created to explore possibilities on creating a machine learning model generating natural language desriptions of tabular data. Proof of concept for Collabothon 2021 hackathon, Natural Language Generation challenge by Sages."
   ]
  },
  {
   "cell_type": "markdown",
   "id": "01114cbb-30b8-4f97-be1c-89cb5dcb3019",
   "metadata": {},
   "source": [
    "## Dataset"
   ]
  },
  {
   "cell_type": "markdown",
   "id": "3a4d6c4a-612d-432f-9e5e-bb21b08c1329",
   "metadata": {},
   "source": [
    "Using ToTTo dataset by Google (https://github.com/google-research-datasets/ToTTo)"
   ]
  },
  {
   "cell_type": "code",
   "execution_count": 1,
   "id": "d48fa29f-596a-4938-a1d8-c0a4f66e6cec",
   "metadata": {},
   "outputs": [],
   "source": [
    "import numpy as np\n",
    "import json"
   ]
  },
  {
   "cell_type": "code",
   "execution_count": 2,
   "id": "4d651ff4-78f8-41e9-81eb-85b1d2607da1",
   "metadata": {},
   "outputs": [],
   "source": [
    "with open('totto_data/totto_train_data.jsonl') as f:\n",
    "    data = np.array([json.loads(line) for line in f])"
   ]
  },
  {
   "cell_type": "code",
   "execution_count": 3,
   "id": "8d8cc870-709c-4219-b43a-fb273970fe85",
   "metadata": {},
   "outputs": [],
   "source": [
    "# print(data[0])"
   ]
  },
  {
   "cell_type": "markdown",
   "id": "c31b5c79-496c-4630-9142-401f87187d59",
   "metadata": {},
   "source": [
    "<img src=\"favorita.png\">"
   ]
  },
  {
   "cell_type": "markdown",
   "id": "8e8f6300-3f23-4863-88c7-cb8021fe57c8",
   "metadata": {},
   "source": [
    "Wiki page: List of 8/9 PM telenovelas of Rede Globo. Focus on 13th index and 2nd column (counted from 0). output sentence: A Favorita is the telenovela aired in the 9 pm timeslot."
   ]
  },
  {
   "cell_type": "code",
   "execution_count": 4,
   "id": "317448b6-3b72-4d8b-97cb-9c34ea8647cc",
   "metadata": {},
   "outputs": [],
   "source": [
    "# with open('totto_data/unlabeled_totto_test_data.jsonl') as f:\n",
    "#     test = np.array([json.loads(line) for line in f])"
   ]
  },
  {
   "cell_type": "markdown",
   "id": "0421cbec-00e6-4d9f-82fe-e5cc08e75d83",
   "metadata": {},
   "source": [
    "## Data processing"
   ]
  },
  {
   "cell_type": "code",
   "execution_count": 5,
   "id": "95902f87-ab0b-4c42-8531-6c737396ae9f",
   "metadata": {},
   "outputs": [
    {
     "data": {
      "text/plain": [
       "(120761,)"
      ]
     },
     "execution_count": 5,
     "metadata": {},
     "output_type": "execute_result"
    }
   ],
   "source": [
    "data.shape"
   ]
  },
  {
   "cell_type": "code",
   "execution_count": 6,
   "id": "6875e7ee-44c7-4f89-8d47-28d728c107e6",
   "metadata": {},
   "outputs": [
    {
     "data": {
      "text/html": [
       "<div>\n",
       "<style scoped>\n",
       "    .dataframe tbody tr th:only-of-type {\n",
       "        vertical-align: middle;\n",
       "    }\n",
       "\n",
       "    .dataframe tbody tr th {\n",
       "        vertical-align: top;\n",
       "    }\n",
       "\n",
       "    .dataframe thead th {\n",
       "        text-align: right;\n",
       "    }\n",
       "</style>\n",
       "<table border=\"1\" class=\"dataframe\">\n",
       "  <thead>\n",
       "    <tr style=\"text-align: right;\">\n",
       "      <th></th>\n",
       "      <th>table</th>\n",
       "      <th>table_webpage_url</th>\n",
       "      <th>table_page_title</th>\n",
       "      <th>table_section_title</th>\n",
       "      <th>table_section_text</th>\n",
       "      <th>highlighted_cells</th>\n",
       "      <th>example_id</th>\n",
       "      <th>sentence_annotations</th>\n",
       "    </tr>\n",
       "  </thead>\n",
       "  <tbody>\n",
       "    <tr>\n",
       "      <th>0</th>\n",
       "      <td>[[{'value': '#', 'is_header': True, 'column_sp...</td>\n",
       "      <td>http://en.wikipedia.org/wiki/List_of_8/9_PM_te...</td>\n",
       "      <td>List of 8/9 PM telenovelas of Rede Globo</td>\n",
       "      <td>2000s</td>\n",
       "      <td></td>\n",
       "      <td>[[13, 2]]</td>\n",
       "      <td>1762238357686640028</td>\n",
       "      <td>[{'original_sentence': 'It is also the first t...</td>\n",
       "    </tr>\n",
       "    <tr>\n",
       "      <th>1</th>\n",
       "      <td>[[{'value': 'Year', 'is_header': True, 'column...</td>\n",
       "      <td>http://en.wikipedia.org/wiki/List_of_Chicago_B...</td>\n",
       "      <td>List of Chicago Bears first-round draft picks</td>\n",
       "      <td>Player selections</td>\n",
       "      <td></td>\n",
       "      <td>[[100, 0], [100, 2], [100, 3], [100, 4]]</td>\n",
       "      <td>7906730525723842956</td>\n",
       "      <td>[{'original_sentence': 'The team's most recent...</td>\n",
       "    </tr>\n",
       "    <tr>\n",
       "      <th>2</th>\n",
       "      <td>[[{'value': 'Res.', 'is_header': True, 'column...</td>\n",
       "      <td>http://en.wikipedia.org/wiki/Brian_Ebersole</td>\n",
       "      <td>Brian Ebersole</td>\n",
       "      <td>Mixed martial arts record</td>\n",
       "      <td></td>\n",
       "      <td>[[9, 2], [9, 4]]</td>\n",
       "      <td>6196487034766762341</td>\n",
       "      <td>[{'original_sentence': 'Ebersole made his UFC ...</td>\n",
       "    </tr>\n",
       "    <tr>\n",
       "      <th>3</th>\n",
       "      <td>[[{'value': 'State (class)', 'is_header': True...</td>\n",
       "      <td>http://en.wikipedia.org/wiki/78th_United_State...</td>\n",
       "      <td>78th United States Congress</td>\n",
       "      <td>Senate</td>\n",
       "      <td></td>\n",
       "      <td>[[1, 1], [1, 2], [1, 3], [1, 4], [8, 1], [8, 3...</td>\n",
       "      <td>5254211070576123135</td>\n",
       "      <td>[{'original_sentence': 'William Warren Barbour...</td>\n",
       "    </tr>\n",
       "    <tr>\n",
       "      <th>4</th>\n",
       "      <td>[[{'value': 'Elagabalus Severan dynastyBorn: c...</td>\n",
       "      <td>http://en.wikipedia.org/wiki/Elagabalus</td>\n",
       "      <td>Elagabalus</td>\n",
       "      <td>External links</td>\n",
       "      <td>Media related to Elagabalus at Wikimedia Commo...</td>\n",
       "      <td>[[0, 0], [2, 1]]</td>\n",
       "      <td>-5206051586137920777</td>\n",
       "      <td>[{'original_sentence': 'Elagabalus (/ˌɛləˈɡæbə...</td>\n",
       "    </tr>\n",
       "  </tbody>\n",
       "</table>\n",
       "</div>"
      ],
      "text/plain": [
       "                                               table  \\\n",
       "0  [[{'value': '#', 'is_header': True, 'column_sp...   \n",
       "1  [[{'value': 'Year', 'is_header': True, 'column...   \n",
       "2  [[{'value': 'Res.', 'is_header': True, 'column...   \n",
       "3  [[{'value': 'State (class)', 'is_header': True...   \n",
       "4  [[{'value': 'Elagabalus Severan dynastyBorn: c...   \n",
       "\n",
       "                                   table_webpage_url  \\\n",
       "0  http://en.wikipedia.org/wiki/List_of_8/9_PM_te...   \n",
       "1  http://en.wikipedia.org/wiki/List_of_Chicago_B...   \n",
       "2        http://en.wikipedia.org/wiki/Brian_Ebersole   \n",
       "3  http://en.wikipedia.org/wiki/78th_United_State...   \n",
       "4            http://en.wikipedia.org/wiki/Elagabalus   \n",
       "\n",
       "                                table_page_title        table_section_title  \\\n",
       "0       List of 8/9 PM telenovelas of Rede Globo                      2000s   \n",
       "1  List of Chicago Bears first-round draft picks          Player selections   \n",
       "2                                 Brian Ebersole  Mixed martial arts record   \n",
       "3                    78th United States Congress                     Senate   \n",
       "4                                     Elagabalus             External links   \n",
       "\n",
       "                                  table_section_text  \\\n",
       "0                                                      \n",
       "1                                                      \n",
       "2                                                      \n",
       "3                                                      \n",
       "4  Media related to Elagabalus at Wikimedia Commo...   \n",
       "\n",
       "                                   highlighted_cells           example_id  \\\n",
       "0                                          [[13, 2]]  1762238357686640028   \n",
       "1           [[100, 0], [100, 2], [100, 3], [100, 4]]  7906730525723842956   \n",
       "2                                   [[9, 2], [9, 4]]  6196487034766762341   \n",
       "3  [[1, 1], [1, 2], [1, 3], [1, 4], [8, 1], [8, 3...  5254211070576123135   \n",
       "4                                   [[0, 0], [2, 1]] -5206051586137920777   \n",
       "\n",
       "                                sentence_annotations  \n",
       "0  [{'original_sentence': 'It is also the first t...  \n",
       "1  [{'original_sentence': 'The team's most recent...  \n",
       "2  [{'original_sentence': 'Ebersole made his UFC ...  \n",
       "3  [{'original_sentence': 'William Warren Barbour...  \n",
       "4  [{'original_sentence': 'Elagabalus (/ˌɛləˈɡæbə...  "
      ]
     },
     "execution_count": 6,
     "metadata": {},
     "output_type": "execute_result"
    }
   ],
   "source": [
    "import pandas as pd\n",
    "\n",
    "df = pd.DataFrame.from_records(data)\n",
    "df.head(5)"
   ]
  },
  {
   "cell_type": "code",
   "execution_count": 7,
   "id": "17a360bd-973e-4de9-bb22-9a327d252c2b",
   "metadata": {},
   "outputs": [],
   "source": [
    "df = df.drop(['table_webpage_url', 'example_id', 'table_section_text'], axis=1)"
   ]
  },
  {
   "cell_type": "code",
   "execution_count": 8,
   "id": "4c5c127a-138c-4971-8034-ff72c8b29d3b",
   "metadata": {},
   "outputs": [],
   "source": [
    "df['sentence_annotations'] = df['sentence_annotations'].apply(lambda row: row[0]['final_sentence'])"
   ]
  },
  {
   "cell_type": "code",
   "execution_count": 9,
   "id": "e1e5e758-001d-48cb-910f-b508819bf709",
   "metadata": {},
   "outputs": [
    {
     "data": {
      "text/html": [
       "<div>\n",
       "<style scoped>\n",
       "    .dataframe tbody tr th:only-of-type {\n",
       "        vertical-align: middle;\n",
       "    }\n",
       "\n",
       "    .dataframe tbody tr th {\n",
       "        vertical-align: top;\n",
       "    }\n",
       "\n",
       "    .dataframe thead th {\n",
       "        text-align: right;\n",
       "    }\n",
       "</style>\n",
       "<table border=\"1\" class=\"dataframe\">\n",
       "  <thead>\n",
       "    <tr style=\"text-align: right;\">\n",
       "      <th></th>\n",
       "      <th>table</th>\n",
       "      <th>table_page_title</th>\n",
       "      <th>table_section_title</th>\n",
       "      <th>highlighted_cells</th>\n",
       "      <th>sentence_annotations</th>\n",
       "    </tr>\n",
       "  </thead>\n",
       "  <tbody>\n",
       "    <tr>\n",
       "      <th>41131</th>\n",
       "      <td>[[{'value': 'United States presidential electi...</td>\n",
       "      <td>1996 United States presidential election in Iowa</td>\n",
       "      <td>Results</td>\n",
       "      <td>[[4, 1], [4, 2], [4, 5]]</td>\n",
       "      <td>The Reform Party candidate Ross Perot finished...</td>\n",
       "    </tr>\n",
       "    <tr>\n",
       "      <th>102660</th>\n",
       "      <td>[[{'value': 'Team', 'is_header': True, 'column...</td>\n",
       "      <td>John Kaye (footballer)</td>\n",
       "      <td>Management</td>\n",
       "      <td>[[2, 7]]</td>\n",
       "      <td>John Kaye had a win percentage of 31.2%.</td>\n",
       "    </tr>\n",
       "    <tr>\n",
       "      <th>63916</th>\n",
       "      <td>[[{'value': 'Year', 'is_header': True, 'column...</td>\n",
       "      <td>Brittany Daniel</td>\n",
       "      <td>Television</td>\n",
       "      <td>[[8, 0], [8, 1], [8, 2]]</td>\n",
       "      <td>In 2002, Brittany Daniel played the role of Pe...</td>\n",
       "    </tr>\n",
       "    <tr>\n",
       "      <th>103657</th>\n",
       "      <td>[[{'value': 'Year', 'is_header': True, 'column...</td>\n",
       "      <td>Joffrey Lauvergne</td>\n",
       "      <td>EuroLeague</td>\n",
       "      <td>[[2, 2], [2, 8], [2, 12]]</td>\n",
       "      <td>Over 24 games in the EuroLeague, Joffrey Lauve...</td>\n",
       "    </tr>\n",
       "    <tr>\n",
       "      <th>95424</th>\n",
       "      <td>[[{'value': 'Nom de Guerre', 'is_header': True...</td>\n",
       "      <td>List of commanders of the LTTE</td>\n",
       "      <td></td>\n",
       "      <td>[[54, 0], [54, 5]]</td>\n",
       "      <td>Gangai Amaran, was an LTTE leader killed by th...</td>\n",
       "    </tr>\n",
       "    <tr>\n",
       "      <th>23081</th>\n",
       "      <td>[[{'value': 'State (class)', 'is_header': True...</td>\n",
       "      <td>95th United States Congress</td>\n",
       "      <td>Senate</td>\n",
       "      <td>[[8, 1], [8, 3], [8, 4]]</td>\n",
       "      <td>Nancy Kassebaum (R) succeeded James B. Pearson...</td>\n",
       "    </tr>\n",
       "    <tr>\n",
       "      <th>39664</th>\n",
       "      <td>[[{'value': 'Year', 'is_header': True, 'column...</td>\n",
       "      <td>Kosovo in the Bala Turkvision Song Contest</td>\n",
       "      <td>Participation</td>\n",
       "      <td>[[1, 0], [1, 1], [1, 2]]</td>\n",
       "      <td>Ela Kazaz, was the first participant to repres...</td>\n",
       "    </tr>\n",
       "    <tr>\n",
       "      <th>95178</th>\n",
       "      <td>[[{'value': 'Climate data for Obigarm', 'is_he...</td>\n",
       "      <td>Obigarm</td>\n",
       "      <td>Climate</td>\n",
       "      <td>[[2, 7], [3, 1]]</td>\n",
       "      <td>In Obigarm, in July the average temperature is...</td>\n",
       "    </tr>\n",
       "    <tr>\n",
       "      <th>88682</th>\n",
       "      <td>[[{'value': 'Alabama Crimson Tide Team NCAA Na...</td>\n",
       "      <td>Alabama Crimson Tide women's gymnastics</td>\n",
       "      <td>NCAA titles</td>\n",
       "      <td>[[4, 0], [4, 1], [4, 2]]</td>\n",
       "      <td>Alabama finished the 1996 season with their th...</td>\n",
       "    </tr>\n",
       "    <tr>\n",
       "      <th>54615</th>\n",
       "      <td>[[{'value': 'Name', 'is_header': True, 'column...</td>\n",
       "      <td>World record progression 1000 m speed skating ...</td>\n",
       "      <td>The world record progression as recognised by ...</td>\n",
       "      <td>[[9, 0], [9, 1], [9, 2], [9, 3]]</td>\n",
       "      <td>Laila Schou Nilsen made a new record in the 10...</td>\n",
       "    </tr>\n",
       "  </tbody>\n",
       "</table>\n",
       "</div>"
      ],
      "text/plain": [
       "                                                    table  \\\n",
       "41131   [[{'value': 'United States presidential electi...   \n",
       "102660  [[{'value': 'Team', 'is_header': True, 'column...   \n",
       "63916   [[{'value': 'Year', 'is_header': True, 'column...   \n",
       "103657  [[{'value': 'Year', 'is_header': True, 'column...   \n",
       "95424   [[{'value': 'Nom de Guerre', 'is_header': True...   \n",
       "23081   [[{'value': 'State (class)', 'is_header': True...   \n",
       "39664   [[{'value': 'Year', 'is_header': True, 'column...   \n",
       "95178   [[{'value': 'Climate data for Obigarm', 'is_he...   \n",
       "88682   [[{'value': 'Alabama Crimson Tide Team NCAA Na...   \n",
       "54615   [[{'value': 'Name', 'is_header': True, 'column...   \n",
       "\n",
       "                                         table_page_title  \\\n",
       "41131    1996 United States presidential election in Iowa   \n",
       "102660                             John Kaye (footballer)   \n",
       "63916                                     Brittany Daniel   \n",
       "103657                                  Joffrey Lauvergne   \n",
       "95424                      List of commanders of the LTTE   \n",
       "23081                         95th United States Congress   \n",
       "39664          Kosovo in the Bala Turkvision Song Contest   \n",
       "95178                                             Obigarm   \n",
       "88682             Alabama Crimson Tide women's gymnastics   \n",
       "54615   World record progression 1000 m speed skating ...   \n",
       "\n",
       "                                      table_section_title  \\\n",
       "41131                                             Results   \n",
       "102660                                         Management   \n",
       "63916                                          Television   \n",
       "103657                                         EuroLeague   \n",
       "95424                                                       \n",
       "23081                                              Senate   \n",
       "39664                                       Participation   \n",
       "95178                                             Climate   \n",
       "88682                                         NCAA titles   \n",
       "54615   The world record progression as recognised by ...   \n",
       "\n",
       "                       highlighted_cells  \\\n",
       "41131           [[4, 1], [4, 2], [4, 5]]   \n",
       "102660                          [[2, 7]]   \n",
       "63916           [[8, 0], [8, 1], [8, 2]]   \n",
       "103657         [[2, 2], [2, 8], [2, 12]]   \n",
       "95424                 [[54, 0], [54, 5]]   \n",
       "23081           [[8, 1], [8, 3], [8, 4]]   \n",
       "39664           [[1, 0], [1, 1], [1, 2]]   \n",
       "95178                   [[2, 7], [3, 1]]   \n",
       "88682           [[4, 0], [4, 1], [4, 2]]   \n",
       "54615   [[9, 0], [9, 1], [9, 2], [9, 3]]   \n",
       "\n",
       "                                     sentence_annotations  \n",
       "41131   The Reform Party candidate Ross Perot finished...  \n",
       "102660           John Kaye had a win percentage of 31.2%.  \n",
       "63916   In 2002, Brittany Daniel played the role of Pe...  \n",
       "103657  Over 24 games in the EuroLeague, Joffrey Lauve...  \n",
       "95424   Gangai Amaran, was an LTTE leader killed by th...  \n",
       "23081   Nancy Kassebaum (R) succeeded James B. Pearson...  \n",
       "39664   Ela Kazaz, was the first participant to repres...  \n",
       "95178   In Obigarm, in July the average temperature is...  \n",
       "88682   Alabama finished the 1996 season with their th...  \n",
       "54615   Laila Schou Nilsen made a new record in the 10...  "
      ]
     },
     "execution_count": 9,
     "metadata": {},
     "output_type": "execute_result"
    }
   ],
   "source": [
    "df.sample(10)"
   ]
  },
  {
   "cell_type": "code",
   "execution_count": 10,
   "id": "0586ab76-b503-481f-b110-6522feea2d54",
   "metadata": {},
   "outputs": [
    {
     "data": {
      "text/html": [
       "<div>\n",
       "<style scoped>\n",
       "    .dataframe tbody tr th:only-of-type {\n",
       "        vertical-align: middle;\n",
       "    }\n",
       "\n",
       "    .dataframe tbody tr th {\n",
       "        vertical-align: top;\n",
       "    }\n",
       "\n",
       "    .dataframe thead th {\n",
       "        text-align: right;\n",
       "    }\n",
       "</style>\n",
       "<table border=\"1\" class=\"dataframe\">\n",
       "  <thead>\n",
       "    <tr style=\"text-align: right;\">\n",
       "      <th></th>\n",
       "      <th>table</th>\n",
       "      <th>table_page_title</th>\n",
       "      <th>table_section_title</th>\n",
       "      <th>highlighted_cells</th>\n",
       "    </tr>\n",
       "  </thead>\n",
       "  <tbody>\n",
       "    <tr>\n",
       "      <th>106944</th>\n",
       "      <td>[[{'value': 'Season', 'is_header': True, 'colu...</td>\n",
       "      <td>Doosan Bears</td>\n",
       "      <td>Season-by-season records</td>\n",
       "      <td>[[3, 0], [3, 14], [23, 0], [23, 12], [30, 0], ...</td>\n",
       "    </tr>\n",
       "    <tr>\n",
       "      <th>29608</th>\n",
       "      <td>[[{'value': 'Rank', 'is_header': True, 'column...</td>\n",
       "      <td>Swimming at the 2000 Summer Olympics – Women's...</td>\n",
       "      <td>Final</td>\n",
       "      <td>[[1, 2], [1, 4]]</td>\n",
       "    </tr>\n",
       "    <tr>\n",
       "      <th>19897</th>\n",
       "      <td>[[{'value': 'Event', 'is_header': True, 'colum...</td>\n",
       "      <td>César Cielo</td>\n",
       "      <td>Short course (25 meter pool)</td>\n",
       "      <td>[[7, 0], [7, 1], [7, 4]]</td>\n",
       "    </tr>\n",
       "  </tbody>\n",
       "</table>\n",
       "</div>"
      ],
      "text/plain": [
       "                                                    table  \\\n",
       "106944  [[{'value': 'Season', 'is_header': True, 'colu...   \n",
       "29608   [[{'value': 'Rank', 'is_header': True, 'column...   \n",
       "19897   [[{'value': 'Event', 'is_header': True, 'colum...   \n",
       "\n",
       "                                         table_page_title  \\\n",
       "106944                                       Doosan Bears   \n",
       "29608   Swimming at the 2000 Summer Olympics – Women's...   \n",
       "19897                                         César Cielo   \n",
       "\n",
       "                 table_section_title  \\\n",
       "106944      Season-by-season records   \n",
       "29608                          Final   \n",
       "19897   Short course (25 meter pool)   \n",
       "\n",
       "                                        highlighted_cells  \n",
       "106944  [[3, 0], [3, 14], [23, 0], [23, 12], [30, 0], ...  \n",
       "29608                                    [[1, 2], [1, 4]]  \n",
       "19897                            [[7, 0], [7, 1], [7, 4]]  "
      ]
     },
     "execution_count": 10,
     "metadata": {},
     "output_type": "execute_result"
    }
   ],
   "source": [
    "data_sentences = df['sentence_annotations']\n",
    "df = df.drop('sentence_annotations', axis=1)\n",
    "df.sample(3)"
   ]
  },
  {
   "cell_type": "code",
   "execution_count": 11,
   "id": "cbc3d5e2-bcd4-49f0-878f-0897ae58522b",
   "metadata": {},
   "outputs": [
    {
     "data": {
      "text/html": [
       "<div>\n",
       "<style scoped>\n",
       "    .dataframe tbody tr th:only-of-type {\n",
       "        vertical-align: middle;\n",
       "    }\n",
       "\n",
       "    .dataframe tbody tr th {\n",
       "        vertical-align: top;\n",
       "    }\n",
       "\n",
       "    .dataframe thead th {\n",
       "        text-align: right;\n",
       "    }\n",
       "</style>\n",
       "<table border=\"1\" class=\"dataframe\">\n",
       "  <thead>\n",
       "    <tr style=\"text-align: right;\">\n",
       "      <th></th>\n",
       "      <th>table_page_title</th>\n",
       "      <th>table_section_title</th>\n",
       "      <th>focus_words</th>\n",
       "    </tr>\n",
       "  </thead>\n",
       "  <tbody>\n",
       "    <tr>\n",
       "      <th>39612</th>\n",
       "      <td>List of Commanders of the Turkish Land Forces</td>\n",
       "      <td></td>\n",
       "      <td>[General Semih Sancar, 28 August 1972, 7 March...</td>\n",
       "    </tr>\n",
       "    <tr>\n",
       "      <th>66654</th>\n",
       "      <td>List of awards and nominations received by Kel...</td>\n",
       "      <td>Grammy Awards</td>\n",
       "      <td>[2013, Stronger, Best Pop Vocal Album, Won]</td>\n",
       "    </tr>\n",
       "    <tr>\n",
       "      <th>119073</th>\n",
       "      <td>National Register of Historic Places listings ...</td>\n",
       "      <td>Current listings</td>\n",
       "      <td>[147]</td>\n",
       "    </tr>\n",
       "  </tbody>\n",
       "</table>\n",
       "</div>"
      ],
      "text/plain": [
       "                                         table_page_title table_section_title  \\\n",
       "39612       List of Commanders of the Turkish Land Forces                       \n",
       "66654   List of awards and nominations received by Kel...       Grammy Awards   \n",
       "119073  National Register of Historic Places listings ...    Current listings   \n",
       "\n",
       "                                              focus_words  \n",
       "39612   [General Semih Sancar, 28 August 1972, 7 March...  \n",
       "66654         [2013, Stronger, Best Pop Vocal Album, Won]  \n",
       "119073                                              [147]  "
      ]
     },
     "execution_count": 11,
     "metadata": {},
     "output_type": "execute_result"
    }
   ],
   "source": [
    " def focus_words(row):\n",
    "    words = []\n",
    "    table = row['table']\n",
    "    for cell in row['highlighted_cells']:\n",
    "        words.append(table[cell[0]][cell[1]]['value'])\n",
    "    return words\n",
    "\n",
    "df['focus_words'] = df.apply(focus_words, axis=1)\n",
    "df = df.drop(['table', 'highlighted_cells'], axis=1)\n",
    "\n",
    "df.sample(3)"
   ]
  },
  {
   "cell_type": "markdown",
   "id": "6bbc5d81-d7e4-4b9e-8373-2bee4d4f2d51",
   "metadata": {},
   "source": [
    "## Train and validation sets"
   ]
  },
  {
   "cell_type": "code",
   "execution_count": 12,
   "id": "6c67f38a-cfd0-4c41-8ec8-5d7f0724abba",
   "metadata": {},
   "outputs": [],
   "source": [
    "from sklearn.model_selection import train_test_split"
   ]
  },
  {
   "cell_type": "code",
   "execution_count": 13,
   "id": "7e615a05-4f97-4a3c-9af2-2916cfc533e5",
   "metadata": {},
   "outputs": [],
   "source": [
    "train_tables, val_tables, train_sentences, val_sentences = train_test_split(df, data_sentences, test_size=0.25)"
   ]
  },
  {
   "cell_type": "code",
   "execution_count": 14,
   "id": "442d2ccd-9f17-48b6-97da-77f1fb931c25",
   "metadata": {},
   "outputs": [
    {
     "name": "stdout",
     "output_type": "stream",
     "text": [
      "(90570, 3) (30191, 3)\n"
     ]
    }
   ],
   "source": [
    "print(train_tables.shape, val_tables.shape)"
   ]
  },
  {
   "cell_type": "markdown",
   "id": "0dd3e7e1-abc0-46ed-9abe-9c449c97f30d",
   "metadata": {},
   "source": [
    "## Model training with PyTorch"
   ]
  },
  {
   "cell_type": "markdown",
   "id": "0cf8caa6-cc75-4aa0-8e1d-d5900570f848",
   "metadata": {},
   "source": [
    "Using mainly Beginners guide to text generation (https://www.kaggle.com/ab971631/beginners-guide-to-text-generation-pytorch) tutorial."
   ]
  },
  {
   "cell_type": "code",
   "execution_count": 15,
   "id": "39606dbc-1eb4-43de-abd5-a98fee6c89ad",
   "metadata": {},
   "outputs": [],
   "source": [
    "import re\n",
    "import pickle\n",
    "import random\n",
    "\n",
    "import torch\n",
    "import torch.nn as nn\n",
    "import torch.nn.functional as F"
   ]
  },
  {
   "cell_type": "code",
   "execution_count": 16,
   "id": "e50843a4-962f-4a35-8d96-94f895c18bd9",
   "metadata": {},
   "outputs": [
    {
     "name": "stdout",
     "output_type": "stream",
     "text": [
      "No GPU available, training on CPU; consider making n_epochs very small.\n"
     ]
    }
   ],
   "source": [
    "# Check if GPU is available\n",
    "train_on_gpu = torch.cuda.is_available()\n",
    "if(train_on_gpu):\n",
    "    print('Training on GPU!')\n",
    "else: \n",
    "    print('No GPU available, training on CPU; consider making n_epochs very small.')"
   ]
  },
  {
   "cell_type": "code",
   "execution_count": 17,
   "id": "9c792e46-0127-492f-beb4-a89b8a9aa759",
   "metadata": {},
   "outputs": [],
   "source": [
    "from torch.autograd import Variable\n",
    "\n",
    "class RNN(nn.Module):\n",
    "    def __init__(self, input_size, hidden_size, output_size, n_layers=1):\n",
    "        super(RNN, self).__init__()\n",
    "        self.input_size = input_size\n",
    "        self.hidden_size = hidden_size\n",
    "        self.output_size = output_size\n",
    "        self.n_layers = n_layers\n",
    "        \n",
    "        self.encoder = nn.Embedding(input_size, hidden_size)\n",
    "        self.gru = nn.GRU(hidden_size*2, hidden_size, n_layers,batch_first=True,\n",
    "                          bidirectional=False)\n",
    "        self.decoder = nn.Linear(hidden_size, output_size)\n",
    "    \n",
    "    def forward(self, input, hidden):\n",
    "        input = self.encoder(input.view(1, -1))\n",
    "        output, hidden = self.gru(input.view(1, 1, -1), hidden)\n",
    "        output = self.decoder(output.view(1, -1))\n",
    "        return output, hidden\n",
    "\n",
    "    def init_hidden(self):\n",
    "        return Variable(torch.zeros(self.n_layers, 1, self.hidden_size))"
   ]
  },
  {
   "cell_type": "code",
   "execution_count": 18,
   "id": "6a39e5c1-e9c3-48ac-a304-dcef1ea17fe5",
   "metadata": {},
   "outputs": [],
   "source": [
    "def train(inp, target):\n",
    "    hidden = decoder.init_hidden()\n",
    "    decoder.zero_grad()\n",
    "    loss = 0\n",
    "    \n",
    "    for c in range(input_size):\n",
    "        output, hidden = decoder(inp[c], hidden)\n",
    "        loss += criterion(output, target[c])\n",
    "\n",
    "    loss.backward()\n",
    "    decoder_optimizer.step()\n",
    "\n",
    "    return loss.data.item() / input_size"
   ]
  },
  {
   "cell_type": "code",
   "execution_count": 19,
   "id": "13285a49-4eab-45c2-91fa-79efacb5e425",
   "metadata": {},
   "outputs": [],
   "source": [
    "import time, math\n",
    "\n",
    "def time_since(since):\n",
    "    s = time.time() - since\n",
    "    m = math.floor(s / 60)\n",
    "    s -= m * 60\n",
    "    return '%dm %ds' % (m, s)"
   ]
  },
  {
   "cell_type": "code",
   "execution_count": 20,
   "id": "7277af3f-573f-4656-b56e-137c2dc8643a",
   "metadata": {},
   "outputs": [],
   "source": [
    "def yield_data_pair():\n",
    "    for i in range(train_tables):\n",
    "        yield train_tables[i], train_sentences[i]"
   ]
  },
  {
   "cell_type": "code",
   "execution_count": 21,
   "id": "688021b5-6d3f-4fc8-9ad5-67935d5a2164",
   "metadata": {},
   "outputs": [
    {
     "ename": "KeyError",
     "evalue": "0",
     "output_type": "error",
     "traceback": [
      "\u001b[1;31m---------------------------------------------------------------------------\u001b[0m",
      "\u001b[1;31mKeyError\u001b[0m                                  Traceback (most recent call last)",
      "\u001b[1;32mc:\\python39\\lib\\site-packages\\pandas\\core\\indexes\\base.py\u001b[0m in \u001b[0;36mget_loc\u001b[1;34m(self, key, method, tolerance)\u001b[0m\n\u001b[0;32m   3360\u001b[0m             \u001b[1;32mtry\u001b[0m\u001b[1;33m:\u001b[0m\u001b[1;33m\u001b[0m\u001b[1;33m\u001b[0m\u001b[0m\n\u001b[1;32m-> 3361\u001b[1;33m                 \u001b[1;32mreturn\u001b[0m \u001b[0mself\u001b[0m\u001b[1;33m.\u001b[0m\u001b[0m_engine\u001b[0m\u001b[1;33m.\u001b[0m\u001b[0mget_loc\u001b[0m\u001b[1;33m(\u001b[0m\u001b[0mcasted_key\u001b[0m\u001b[1;33m)\u001b[0m\u001b[1;33m\u001b[0m\u001b[1;33m\u001b[0m\u001b[0m\n\u001b[0m\u001b[0;32m   3362\u001b[0m             \u001b[1;32mexcept\u001b[0m \u001b[0mKeyError\u001b[0m \u001b[1;32mas\u001b[0m \u001b[0merr\u001b[0m\u001b[1;33m:\u001b[0m\u001b[1;33m\u001b[0m\u001b[1;33m\u001b[0m\u001b[0m\n",
      "\u001b[1;32mc:\\python39\\lib\\site-packages\\pandas\\_libs\\index.pyx\u001b[0m in \u001b[0;36mpandas._libs.index.IndexEngine.get_loc\u001b[1;34m()\u001b[0m\n",
      "\u001b[1;32mc:\\python39\\lib\\site-packages\\pandas\\_libs\\index.pyx\u001b[0m in \u001b[0;36mpandas._libs.index.IndexEngine.get_loc\u001b[1;34m()\u001b[0m\n",
      "\u001b[1;32mpandas\\_libs\\hashtable_class_helper.pxi\u001b[0m in \u001b[0;36mpandas._libs.hashtable.PyObjectHashTable.get_item\u001b[1;34m()\u001b[0m\n",
      "\u001b[1;32mpandas\\_libs\\hashtable_class_helper.pxi\u001b[0m in \u001b[0;36mpandas._libs.hashtable.PyObjectHashTable.get_item\u001b[1;34m()\u001b[0m\n",
      "\u001b[1;31mKeyError\u001b[0m: 0",
      "\nThe above exception was the direct cause of the following exception:\n",
      "\u001b[1;31mKeyError\u001b[0m                                  Traceback (most recent call last)",
      "\u001b[1;32m<ipython-input-21-39817a696756>\u001b[0m in \u001b[0;36m<module>\u001b[1;34m\u001b[0m\n\u001b[0;32m     22\u001b[0m \u001b[1;32mfor\u001b[0m \u001b[0mepoch\u001b[0m \u001b[1;32min\u001b[0m \u001b[0mrange\u001b[0m\u001b[1;33m(\u001b[0m\u001b[1;36m1\u001b[0m\u001b[1;33m,\u001b[0m \u001b[0mn_epochs\u001b[0m \u001b[1;33m+\u001b[0m \u001b[1;36m1\u001b[0m\u001b[1;33m)\u001b[0m\u001b[1;33m:\u001b[0m\u001b[1;33m\u001b[0m\u001b[1;33m\u001b[0m\u001b[0m\n\u001b[0;32m     23\u001b[0m \u001b[1;31m#     inp, tar = yield_data_pair()\u001b[0m\u001b[1;33m\u001b[0m\u001b[1;33m\u001b[0m\u001b[1;33m\u001b[0m\u001b[0m\n\u001b[1;32m---> 24\u001b[1;33m     \u001b[0mloss\u001b[0m \u001b[1;33m=\u001b[0m \u001b[0mtrain\u001b[0m\u001b[1;33m(\u001b[0m\u001b[0mtrain_tables\u001b[0m\u001b[1;33m,\u001b[0m \u001b[0mtrain_sentences\u001b[0m\u001b[1;33m)\u001b[0m\u001b[1;33m\u001b[0m\u001b[1;33m\u001b[0m\u001b[0m\n\u001b[0m\u001b[0;32m     25\u001b[0m     \u001b[0mloss_avg\u001b[0m \u001b[1;33m+=\u001b[0m \u001b[0mloss\u001b[0m\u001b[1;33m\u001b[0m\u001b[1;33m\u001b[0m\u001b[0m\n\u001b[0;32m     26\u001b[0m \u001b[1;33m\u001b[0m\u001b[0m\n",
      "\u001b[1;32m<ipython-input-18-19e4a6b87994>\u001b[0m in \u001b[0;36mtrain\u001b[1;34m(inp, target)\u001b[0m\n\u001b[0;32m      5\u001b[0m \u001b[1;33m\u001b[0m\u001b[0m\n\u001b[0;32m      6\u001b[0m     \u001b[1;32mfor\u001b[0m \u001b[0mc\u001b[0m \u001b[1;32min\u001b[0m \u001b[0mrange\u001b[0m\u001b[1;33m(\u001b[0m\u001b[0minput_size\u001b[0m\u001b[1;33m)\u001b[0m\u001b[1;33m:\u001b[0m\u001b[1;33m\u001b[0m\u001b[1;33m\u001b[0m\u001b[0m\n\u001b[1;32m----> 7\u001b[1;33m         \u001b[0moutput\u001b[0m\u001b[1;33m,\u001b[0m \u001b[0mhidden\u001b[0m \u001b[1;33m=\u001b[0m \u001b[0mdecoder\u001b[0m\u001b[1;33m(\u001b[0m\u001b[0minp\u001b[0m\u001b[1;33m[\u001b[0m\u001b[0mc\u001b[0m\u001b[1;33m]\u001b[0m\u001b[1;33m,\u001b[0m \u001b[0mhidden\u001b[0m\u001b[1;33m)\u001b[0m\u001b[1;33m\u001b[0m\u001b[1;33m\u001b[0m\u001b[0m\n\u001b[0m\u001b[0;32m      8\u001b[0m         \u001b[0mloss\u001b[0m \u001b[1;33m+=\u001b[0m \u001b[0mcriterion\u001b[0m\u001b[1;33m(\u001b[0m\u001b[0moutput\u001b[0m\u001b[1;33m,\u001b[0m \u001b[0mtarget\u001b[0m\u001b[1;33m[\u001b[0m\u001b[0mc\u001b[0m\u001b[1;33m]\u001b[0m\u001b[1;33m)\u001b[0m\u001b[1;33m\u001b[0m\u001b[1;33m\u001b[0m\u001b[0m\n\u001b[0;32m      9\u001b[0m \u001b[1;33m\u001b[0m\u001b[0m\n",
      "\u001b[1;32mc:\\python39\\lib\\site-packages\\pandas\\core\\frame.py\u001b[0m in \u001b[0;36m__getitem__\u001b[1;34m(self, key)\u001b[0m\n\u001b[0;32m   3453\u001b[0m             \u001b[1;32mif\u001b[0m \u001b[0mself\u001b[0m\u001b[1;33m.\u001b[0m\u001b[0mcolumns\u001b[0m\u001b[1;33m.\u001b[0m\u001b[0mnlevels\u001b[0m \u001b[1;33m>\u001b[0m \u001b[1;36m1\u001b[0m\u001b[1;33m:\u001b[0m\u001b[1;33m\u001b[0m\u001b[1;33m\u001b[0m\u001b[0m\n\u001b[0;32m   3454\u001b[0m                 \u001b[1;32mreturn\u001b[0m \u001b[0mself\u001b[0m\u001b[1;33m.\u001b[0m\u001b[0m_getitem_multilevel\u001b[0m\u001b[1;33m(\u001b[0m\u001b[0mkey\u001b[0m\u001b[1;33m)\u001b[0m\u001b[1;33m\u001b[0m\u001b[1;33m\u001b[0m\u001b[0m\n\u001b[1;32m-> 3455\u001b[1;33m             \u001b[0mindexer\u001b[0m \u001b[1;33m=\u001b[0m \u001b[0mself\u001b[0m\u001b[1;33m.\u001b[0m\u001b[0mcolumns\u001b[0m\u001b[1;33m.\u001b[0m\u001b[0mget_loc\u001b[0m\u001b[1;33m(\u001b[0m\u001b[0mkey\u001b[0m\u001b[1;33m)\u001b[0m\u001b[1;33m\u001b[0m\u001b[1;33m\u001b[0m\u001b[0m\n\u001b[0m\u001b[0;32m   3456\u001b[0m             \u001b[1;32mif\u001b[0m \u001b[0mis_integer\u001b[0m\u001b[1;33m(\u001b[0m\u001b[0mindexer\u001b[0m\u001b[1;33m)\u001b[0m\u001b[1;33m:\u001b[0m\u001b[1;33m\u001b[0m\u001b[1;33m\u001b[0m\u001b[0m\n\u001b[0;32m   3457\u001b[0m                 \u001b[0mindexer\u001b[0m \u001b[1;33m=\u001b[0m \u001b[1;33m[\u001b[0m\u001b[0mindexer\u001b[0m\u001b[1;33m]\u001b[0m\u001b[1;33m\u001b[0m\u001b[1;33m\u001b[0m\u001b[0m\n",
      "\u001b[1;32mc:\\python39\\lib\\site-packages\\pandas\\core\\indexes\\base.py\u001b[0m in \u001b[0;36mget_loc\u001b[1;34m(self, key, method, tolerance)\u001b[0m\n\u001b[0;32m   3361\u001b[0m                 \u001b[1;32mreturn\u001b[0m \u001b[0mself\u001b[0m\u001b[1;33m.\u001b[0m\u001b[0m_engine\u001b[0m\u001b[1;33m.\u001b[0m\u001b[0mget_loc\u001b[0m\u001b[1;33m(\u001b[0m\u001b[0mcasted_key\u001b[0m\u001b[1;33m)\u001b[0m\u001b[1;33m\u001b[0m\u001b[1;33m\u001b[0m\u001b[0m\n\u001b[0;32m   3362\u001b[0m             \u001b[1;32mexcept\u001b[0m \u001b[0mKeyError\u001b[0m \u001b[1;32mas\u001b[0m \u001b[0merr\u001b[0m\u001b[1;33m:\u001b[0m\u001b[1;33m\u001b[0m\u001b[1;33m\u001b[0m\u001b[0m\n\u001b[1;32m-> 3363\u001b[1;33m                 \u001b[1;32mraise\u001b[0m \u001b[0mKeyError\u001b[0m\u001b[1;33m(\u001b[0m\u001b[0mkey\u001b[0m\u001b[1;33m)\u001b[0m \u001b[1;32mfrom\u001b[0m \u001b[0merr\u001b[0m\u001b[1;33m\u001b[0m\u001b[1;33m\u001b[0m\u001b[0m\n\u001b[0m\u001b[0;32m   3364\u001b[0m \u001b[1;33m\u001b[0m\u001b[0m\n\u001b[0;32m   3365\u001b[0m         \u001b[1;32mif\u001b[0m \u001b[0mis_scalar\u001b[0m\u001b[1;33m(\u001b[0m\u001b[0mkey\u001b[0m\u001b[1;33m)\u001b[0m \u001b[1;32mand\u001b[0m \u001b[0misna\u001b[0m\u001b[1;33m(\u001b[0m\u001b[0mkey\u001b[0m\u001b[1;33m)\u001b[0m \u001b[1;32mand\u001b[0m \u001b[1;32mnot\u001b[0m \u001b[0mself\u001b[0m\u001b[1;33m.\u001b[0m\u001b[0mhasnans\u001b[0m\u001b[1;33m:\u001b[0m\u001b[1;33m\u001b[0m\u001b[1;33m\u001b[0m\u001b[0m\n",
      "\u001b[1;31mKeyError\u001b[0m: 0"
     ]
    }
   ],
   "source": [
    "n_epochs = 300\n",
    "print_every = 100\n",
    "plot_every = 10\n",
    "hidden_size = 100\n",
    "n_layers = 1\n",
    "lr = 0.015\n",
    "\n",
    "input_size = len(set(train_tables))\n",
    "output_size = len(set(train_sentences))\n",
    "\n",
    "decoder = RNN(input_size, hidden_size, output_size, n_layers)\n",
    "decoder_optimizer = torch.optim.Adam(decoder.parameters(), lr=lr)\n",
    "criterion = nn.CrossEntropyLoss()\n",
    "\n",
    "start = time.time()\n",
    "all_losses = []\n",
    "loss_avg = 0\n",
    "\n",
    "# if(train_on_gpu):\n",
    "#     decoder.cuda()\n",
    "\n",
    "for epoch in range(1, n_epochs + 1):\n",
    "#     inp, tar = yield_data_pair()\n",
    "    loss = train(train_tables, train_sentences)       \n",
    "    loss_avg += loss\n",
    "\n",
    "    if epoch % print_every == 0:\n",
    "        print('[%s (%d %d%%) %.4f]' % (time_since(start), epoch, epoch / n_epochs * 50, loss))\n",
    "#         print(evaluate('ge', 200), '\\n')\n",
    "\n",
    "    if epoch % plot_every == 0:\n",
    "        all_losses.append(loss_avg / plot_every)\n",
    "        loss_avg = 0"
   ]
  },
  {
   "cell_type": "code",
   "execution_count": null,
   "id": "ea4529c2-ea86-46bc-bfd4-f9762392a116",
   "metadata": {},
   "outputs": [],
   "source": []
  }
 ],
 "metadata": {
  "kernelspec": {
   "display_name": "Python 3",
   "language": "python",
   "name": "python3"
  },
  "language_info": {
   "codemirror_mode": {
    "name": "ipython",
    "version": 3
   },
   "file_extension": ".py",
   "mimetype": "text/x-python",
   "name": "python",
   "nbconvert_exporter": "python",
   "pygments_lexer": "ipython3",
   "version": "3.9.5"
  }
 },
 "nbformat": 4,
 "nbformat_minor": 5
}
